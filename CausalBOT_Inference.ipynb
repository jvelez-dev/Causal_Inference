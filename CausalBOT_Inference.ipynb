{
 "cells": [
  {
   "cell_type": "code",
   "execution_count": 7,
   "metadata": {},
   "outputs": [],
   "source": [
    "import pandas as pd\n",
    "import numpy as np\n",
    "\n",
    "from itertools import product\n",
    "import matplotlib.pyplot as plt\n",
    "from networkx import draw_networkx, DiGraph\n",
    "\n",
    "from causalnex.structure.notears import from_pandas\n",
    "from pgmpy.models import BayesianNetwork\n",
    "from pgmpy.factors.discrete import TabularCPD\n",
    "from pgmpy.inference import VariableElimination\n",
    "from pgmpy.factors.discrete import DiscreteFactor\n",
    "from pgmpy.inference import CausalInference"
   ]
  },
  {
   "cell_type": "markdown",
   "metadata": {},
   "source": [
    "### Cargar los datos"
   ]
  },
  {
   "cell_type": "code",
   "execution_count": 12,
   "metadata": {},
   "outputs": [
    {
     "data": {
      "text/html": [
       "<div>\n",
       "<style scoped>\n",
       "    .dataframe tbody tr th:only-of-type {\n",
       "        vertical-align: middle;\n",
       "    }\n",
       "\n",
       "    .dataframe tbody tr th {\n",
       "        vertical-align: top;\n",
       "    }\n",
       "\n",
       "    .dataframe thead th {\n",
       "        text-align: right;\n",
       "    }\n",
       "</style>\n",
       "<table border=\"1\" class=\"dataframe\">\n",
       "  <thead>\n",
       "    <tr style=\"text-align: right;\">\n",
       "      <th></th>\n",
       "      <th>BOT</th>\n",
       "      <th>C</th>\n",
       "      <th>N</th>\n",
       "      <th>V</th>\n",
       "      <th>S</th>\n",
       "      <th>L</th>\n",
       "      <th>Y</th>\n",
       "    </tr>\n",
       "  </thead>\n",
       "  <tbody>\n",
       "    <tr>\n",
       "      <th>0</th>\n",
       "      <td>0</td>\n",
       "      <td>5</td>\n",
       "      <td>25</td>\n",
       "      <td>12</td>\n",
       "      <td>1</td>\n",
       "      <td>0</td>\n",
       "      <td>0</td>\n",
       "    </tr>\n",
       "    <tr>\n",
       "      <th>1</th>\n",
       "      <td>1</td>\n",
       "      <td>5</td>\n",
       "      <td>25</td>\n",
       "      <td>25</td>\n",
       "      <td>0</td>\n",
       "      <td>1</td>\n",
       "      <td>1</td>\n",
       "    </tr>\n",
       "    <tr>\n",
       "      <th>2</th>\n",
       "      <td>2</td>\n",
       "      <td>2</td>\n",
       "      <td>27</td>\n",
       "      <td>13</td>\n",
       "      <td>1</td>\n",
       "      <td>0</td>\n",
       "      <td>0</td>\n",
       "    </tr>\n",
       "    <tr>\n",
       "      <th>3</th>\n",
       "      <td>3</td>\n",
       "      <td>2</td>\n",
       "      <td>27</td>\n",
       "      <td>13</td>\n",
       "      <td>1</td>\n",
       "      <td>0</td>\n",
       "      <td>0</td>\n",
       "    </tr>\n",
       "    <tr>\n",
       "      <th>4</th>\n",
       "      <td>4</td>\n",
       "      <td>4</td>\n",
       "      <td>25</td>\n",
       "      <td>16</td>\n",
       "      <td>1</td>\n",
       "      <td>0</td>\n",
       "      <td>0</td>\n",
       "    </tr>\n",
       "    <tr>\n",
       "      <th>...</th>\n",
       "      <td>...</td>\n",
       "      <td>...</td>\n",
       "      <td>...</td>\n",
       "      <td>...</td>\n",
       "      <td>...</td>\n",
       "      <td>...</td>\n",
       "      <td>...</td>\n",
       "    </tr>\n",
       "    <tr>\n",
       "      <th>1195</th>\n",
       "      <td>1195</td>\n",
       "      <td>3</td>\n",
       "      <td>24</td>\n",
       "      <td>24</td>\n",
       "      <td>0</td>\n",
       "      <td>1</td>\n",
       "      <td>1</td>\n",
       "    </tr>\n",
       "    <tr>\n",
       "      <th>1196</th>\n",
       "      <td>1196</td>\n",
       "      <td>7</td>\n",
       "      <td>30</td>\n",
       "      <td>30</td>\n",
       "      <td>0</td>\n",
       "      <td>1</td>\n",
       "      <td>1</td>\n",
       "    </tr>\n",
       "    <tr>\n",
       "      <th>1197</th>\n",
       "      <td>1197</td>\n",
       "      <td>2</td>\n",
       "      <td>27</td>\n",
       "      <td>13</td>\n",
       "      <td>1</td>\n",
       "      <td>0</td>\n",
       "      <td>0</td>\n",
       "    </tr>\n",
       "    <tr>\n",
       "      <th>1198</th>\n",
       "      <td>1198</td>\n",
       "      <td>3</td>\n",
       "      <td>24</td>\n",
       "      <td>21</td>\n",
       "      <td>1</td>\n",
       "      <td>1</td>\n",
       "      <td>0</td>\n",
       "    </tr>\n",
       "    <tr>\n",
       "      <th>1199</th>\n",
       "      <td>1199</td>\n",
       "      <td>7</td>\n",
       "      <td>30</td>\n",
       "      <td>26</td>\n",
       "      <td>1</td>\n",
       "      <td>1</td>\n",
       "      <td>0</td>\n",
       "    </tr>\n",
       "  </tbody>\n",
       "</table>\n",
       "<p>1200 rows × 7 columns</p>\n",
       "</div>"
      ],
      "text/plain": [
       "       BOT  C   N   V  S  L  Y\n",
       "0        0  5  25  12  1  0  0\n",
       "1        1  5  25  25  0  1  1\n",
       "2        2  2  27  13  1  0  0\n",
       "3        3  2  27  13  1  0  0\n",
       "4        4  4  25  16  1  0  0\n",
       "...    ... ..  ..  .. .. .. ..\n",
       "1195  1195  3  24  24  0  1  1\n",
       "1196  1196  7  30  30  0  1  1\n",
       "1197  1197  2  27  13  1  0  0\n",
       "1198  1198  3  24  21  1  1  0\n",
       "1199  1199  7  30  26  1  1  0\n",
       "\n",
       "[1200 rows x 7 columns]"
      ]
     },
     "metadata": {},
     "output_type": "display_data"
    }
   ],
   "source": [
    "df=pd.read_csv(\"/Dataset.csv\")\n",
    "#df.columns = ['BOT','C','N','V','S','L','Y']\n",
    "\n",
    "display(df)"
   ]
  },
  {
   "cell_type": "markdown",
   "metadata": {},
   "source": [
    "### Causal discovery (NOTEARS)"
   ]
  },
  {
   "cell_type": "code",
   "execution_count": 4,
   "metadata": {},
   "outputs": [],
   "source": [
    "def plot_model(model, pos : dict = None, figsize : tuple = (10, 8), node_size : int = 5000):\n",
    "    plt.figure(figsize=figsize) \n",
    "    plt.box(False)\n",
    "    draw_networkx(DiGraph(model.edges), with_labels=True, pos=pos, node_color=['C{}'.format(i) for i in range(len(pos))], node_size=node_size, arrowsize=25)\n",
    "    plt.show()\n",
    "    \n"
   ]
  },
  {
   "cell_type": "code",
   "execution_count": 5,
   "metadata": {},
   "outputs": [
    {
     "data": {
      "image/png": "[encoded data removed]",
      "text/plain": [
       "<Figure size 720x576 with 1 Axes>"
      ]
     },
     "metadata": {},
     "output_type": "display_data"
    }
   ],
   "source": [
    "def discover_model():\n",
    "    POS : dict = {'C': np.array([0, 0]), 'S': np.array([0, 1]),'L': np.array([1, 0]), 'Y': np.array([0, -1])}\n",
    "    FIGSIZE : tuple = (10, 8)\n",
    "    #Usar NOTEARS de causalnex para intentar inferir el DAG a partir de los datos\n",
    "    data = df.drop(columns=[\"BOT\",\"N\",\"V\"])\n",
    "    notears_model = from_pandas(data, w_threshold=0.1,tabu_parent_nodes=[\"Y\"])\n",
    "    plot_model(model=notears_model, pos=POS, figsize=FIGSIZE)\n",
    "\n",
    "discover_model()"
   ]
  },
  {
   "cell_type": "markdown",
   "metadata": {},
   "source": [
    "### Crear el modelo"
   ]
  },
  {
   "cell_type": "code",
   "execution_count": 6,
   "metadata": {},
   "outputs": [
    {
     "data": {
      "image/png": "[encoded data removed]",
      "text/plain": [
       "<Figure size 720x576 with 1 Axes>"
      ]
     },
     "metadata": {},
     "output_type": "display_data"
    }
   ],
   "source": [
    "POS : dict = {'S': np.array([1,1]),'L': np.array([1, -1]),'Y': np.array([2, 0])}\n",
    "FIGSIZE : tuple = (10, 8)\n",
    "modelo = BayesianNetwork([('S', 'Y'), ('L', 'Y')])\n",
    "plot_model(model=modelo, pos=POS, figsize=FIGSIZE)"
   ]
  },
  {
   "cell_type": "markdown",
   "metadata": {},
   "source": [
    "### Tablas de probabilidad condicional (CPT)"
   ]
  },
  {
   "cell_type": "code",
   "execution_count": 7,
   "metadata": {},
   "outputs": [
    {
     "name": "stdout",
     "output_type": "stream",
     "text": [
      "+------+----------+\n",
      "| S(0) | 0.259167 |\n",
      "+------+----------+\n",
      "| S(1) | 0.740833 |\n",
      "+------+----------+\n",
      "+------+------+---------------------+------+------+\n",
      "| L    | L(0) | L(0)                | L(1) | L(1) |\n",
      "+------+------+---------------------+------+------+\n",
      "| S    | S(0) | S(1)                | S(0) | S(1) |\n",
      "+------+------+---------------------+------+------+\n",
      "| Y(0) | 0.5  | 0.8204667863554758  | 0.0  | 1.0  |\n",
      "+------+------+---------------------+------+------+\n",
      "| Y(1) | 0.5  | 0.17953321364452424 | 1.0  | 0.0  |\n",
      "+------+------+---------------------+------+------+\n",
      "+------+----------+\n",
      "| L(0) | 0.464167 |\n",
      "+------+----------+\n",
      "| L(1) | 0.535833 |\n",
      "+------+----------+\n"
     ]
    }
   ],
   "source": [
    "def gen_CPT(d):\n",
    "    modelo.fit(d)\n",
    "    modelo.check_model()\n",
    "    for cpd in modelo.get_cpds():\n",
    "        print(cpd)\n",
    "\n",
    "data = df.drop(columns=[\"BOT\",\"C\",\"N\",\"V\"])\n",
    "gen_CPT(data)"
   ]
  },
  {
   "cell_type": "markdown",
   "metadata": {},
   "source": [
    "### Independencia de las variables"
   ]
  },
  {
   "cell_type": "code",
   "execution_count": 8,
   "metadata": {},
   "outputs": [
    {
     "data": {
      "text/plain": [
       "(L ⟂ S)\n",
       "(S ⟂ L)"
      ]
     },
     "execution_count": 8,
     "metadata": {},
     "output_type": "execute_result"
    }
   ],
   "source": [
    "modelo.get_independencies()"
   ]
  },
  {
   "cell_type": "markdown",
   "metadata": {},
   "source": [
    "### Consultas del tipo \"What if\" al modelo causal"
   ]
  },
  {
   "cell_type": "code",
   "execution_count": 9,
   "metadata": {},
   "outputs": [],
   "source": [
    "## -> DisceteFactor es el metadato que especifica el tipo de objeto que retornará la función\n",
    "def consultar_modelo(model : BayesianNetwork, variables : list, evidence : list = None, verbose : bool = True) -> DiscreteFactor:\n",
    "    query = VariableElimination(model).query(variables, evidence, show_progress=False)\n",
    "    if verbose:\n",
    "        print(query)\n",
    "    return query"
   ]
  },
  {
   "cell_type": "markdown",
   "metadata": {},
   "source": [
    "## ¿Qué pasaría si el GBOT pudiera ver y escuchar?"
   ]
  },
  {
   "cell_type": "code",
   "execution_count": 10,
   "metadata": {},
   "outputs": [
    {
     "name": "stdout",
     "output_type": "stream",
     "text": [
      "+------+----------+\n",
      "| Y    |   phi(Y) |\n",
      "+======+==========+\n",
      "| Y(0) |   1.0000 |\n",
      "+------+----------+\n",
      "| Y(1) |   0.0000 |\n",
      "+------+----------+\n",
      "Tareas completadas si Guard_BOT ve y escucha (gira cuando se acercan por detrás): 0\n"
     ]
    }
   ],
   "source": [
    "q2 = consultar_modelo(modelo, variables=['Y'], evidence={'L':1,'S':1})\n",
    "print(f\"Tareas completadas si Guard_BOT ve y escucha (gira cuando se acercan por detrás): {int((q2.values[1] * data.shape[0]))}\")"
   ]
  },
  {
   "cell_type": "markdown",
   "metadata": {},
   "source": [
    "## ¿Qué pasaría si el GBOT pudiera ver, pero no escuchar?\n"
   ]
  },
  {
   "cell_type": "code",
   "execution_count": 11,
   "metadata": {},
   "outputs": [
    {
     "name": "stdout",
     "output_type": "stream",
     "text": [
      "+------+----------+\n",
      "| Y    |   phi(Y) |\n",
      "+======+==========+\n",
      "| Y(0) |   0.8205 |\n",
      "+------+----------+\n",
      "| Y(1) |   0.1795 |\n",
      "+------+----------+\n",
      "Tareas completadas si Guard_BOT solo ve: 215\n"
     ]
    }
   ],
   "source": [
    "q2 = consultar_modelo(modelo, variables=['Y'], evidence={'L':0,'S':1})\n",
    "print(f\"Tareas completadas si Guard_BOT solo ve: {int((q2.values[1] * data.shape[0]))}\")"
   ]
  },
  {
   "cell_type": "markdown",
   "metadata": {},
   "source": [
    "## ¿Qué pasaría si el GBOT no pudiera ver, pero sí escuchar?"
   ]
  },
  {
   "cell_type": "code",
   "execution_count": 12,
   "metadata": {},
   "outputs": [
    {
     "name": "stdout",
     "output_type": "stream",
     "text": [
      "+------+----------+\n",
      "| Y    |   phi(Y) |\n",
      "+======+==========+\n",
      "| Y(0) |   0.0000 |\n",
      "+------+----------+\n",
      "| Y(1) |   1.0000 |\n",
      "+------+----------+\n",
      "Tareas completadas si Guard_BOT solo escucha (gira pero no ve a quien se acerca por detrás -hay detección pero no identificación-): 1200\n"
     ]
    }
   ],
   "source": [
    "q2 = consultar_modelo(modelo, variables=['Y'], evidence={'L':1,'S':0})\n",
    "print(f\"Tareas completadas si Guard_BOT solo escucha (gira pero no ve a quien se acerca por detrás -hay detección pero no identificación-): {int((q2.values[1] * data.shape[0]))}\")"
   ]
  },
  {
   "cell_type": "markdown",
   "metadata": {},
   "source": [
    "## Inferencia Causal"
   ]
  },
  {
   "cell_type": "code",
   "execution_count": 13,
   "metadata": {},
   "outputs": [
    {
     "name": "stderr",
     "output_type": "stream",
     "text": [
      "C:\\Users\\JVelez\\Anaconda3\\lib\\site-packages\\statsmodels\\tsa\\tsatools.py:130: FutureWarning: In a future version of pandas all arguments of concat except for the argument 'objs' will be keyword-only\n",
      "  x = pd.concat(x[::order], 1)\n"
     ]
    },
    {
     "data": {
      "text/plain": [
       "-0.8875140607424002"
      ]
     },
     "execution_count": 13,
     "metadata": {},
     "output_type": "execute_result"
    }
   ],
   "source": [
    "inferencia = CausalInference(model=modelo)\n",
    "inferencia.estimate_ate(\"S\", \"Y\", data=data, estimator_type=\"linear\")\n"
   ]
  },
  {
   "cell_type": "code",
   "execution_count": 14,
   "metadata": {},
   "outputs": [
    {
     "data": {
      "text/plain": [
       "0.3041370818453678"
      ]
     },
     "execution_count": 14,
     "metadata": {},
     "output_type": "execute_result"
    }
   ],
   "source": [
    "inferencia.estimate_ate(\"L\", \"Y\", data=data, estimator_type=\"linear\")\n"
   ]
  },
  {
   "cell_type": "markdown",
   "metadata": {},
   "source": [
    "## Intervenciones"
   ]
  },
  {
   "cell_type": "code",
   "execution_count": 15,
   "metadata": {},
   "outputs": [
    {
     "name": "stdout",
     "output_type": "stream",
     "text": [
      "+------+----------+\n",
      "| Y    |   phi(Y) |\n",
      "+======+==========+\n",
      "| Y(0) |   0.8205 |\n",
      "+------+----------+\n",
      "| Y(1) |   0.1795 |\n",
      "+------+----------+\n"
     ]
    }
   ],
   "source": [
    "print(inferencia.query(variables=[\"Y\"], do={\"L\": 0, \"S\":1}))"
   ]
  },
  {
   "cell_type": "markdown",
   "metadata": {},
   "source": [
    "## Propensity score matching"
   ]
  },
  {
   "cell_type": "code",
   "execution_count": 16,
   "metadata": {},
   "outputs": [
    {
     "name": "stdout",
     "output_type": "stream",
     "text": [
      "\n",
      "Treatment Effect Estimates: OLS\n",
      "\n",
      "                     Est.       S.e.          z      P>|z|      [95% Conf. int.]\n",
      "--------------------------------------------------------------------------------\n",
      "           ATE      0.304      0.026     11.903      0.000      0.254      0.354\n",
      "\n",
      "\n",
      "Summary Statistics\n",
      "\n",
      "                       Controls (N_c=557)         Treated (N_t=643)             \n",
      "       Variable         Mean         S.d.         Mean         S.d.     Raw-diff\n",
      "--------------------------------------------------------------------------------\n",
      "              Y        0.180        0.384        0.484        0.500        0.304\n",
      "\n",
      "                       Controls (N_c=557)         Treated (N_t=643)             \n",
      "       Variable         Mean         S.d.         Mean         S.d.     Nor-diff\n",
      "--------------------------------------------------------------------------------\n",
      "             X0        1.000        0.000        0.516        0.500       -1.368\n",
      "\n"
     ]
    },
    {
     "name": "stderr",
     "output_type": "stream",
     "text": [
      "C:\\Users\\JVelez\\Anaconda3\\lib\\site-packages\\causalinference\\estimators\\ols.py:21: FutureWarning: `rcond` parameter will change to the default of machine precision times ``max(M, N)`` where M and N are the input matrix dimensions.\n",
      "To use the future default and silence this warning we advise to pass `rcond=None`, to keep using the old, explicitly pass `rcond=-1`.\n",
      "  olscoef = np.linalg.lstsq(Z, Y)[0]\n"
     ]
    }
   ],
   "source": [
    "from causalinference import CausalModel\n",
    "\n",
    "## Aislar El efecto Resultado, el tratamiento Camino 1 y los demás serán confounders\n",
    "Y = data.loc[:,\"Y\"].values\n",
    "T = data.loc[:,\"L\"].values\n",
    "confounders = data.drop(columns=[\"L\",\"Y\"]).values\n",
    "model = CausalModel(Y,T,confounders)\n",
    "model.est_via_ols(adj=0)\n",
    "estimaciones = model.estimates\n",
    "print(estimaciones)\n",
    "print(model.summary_stats)\n",
    "model.reset()"
   ]
  },
  {
   "cell_type": "code",
   "execution_count": 17,
   "metadata": {},
   "outputs": [
    {
     "name": "stdout",
     "output_type": "stream",
     "text": [
      "\n",
      "Treatment Effect Estimates: OLS\n",
      "\n",
      "                     Est.       S.e.          z      P>|z|      [95% Conf. int.]\n",
      "--------------------------------------------------------------------------------\n",
      "           ATE     -0.888      0.011    -83.751      0.000     -0.908     -0.867\n",
      "\n",
      "\n",
      "Summary Statistics\n",
      "\n",
      "                       Controls (N_c=311)         Treated (N_t=889)             \n",
      "       Variable         Mean         S.d.         Mean         S.d.     Raw-diff\n",
      "--------------------------------------------------------------------------------\n",
      "              Y        1.000        0.000        0.112        0.316       -0.888\n",
      "\n",
      "                       Controls (N_c=311)         Treated (N_t=889)             \n",
      "       Variable         Mean         S.d.         Mean         S.d.     Nor-diff\n",
      "--------------------------------------------------------------------------------\n",
      "             X0        1.000        0.000        0.373        0.484       -1.831\n",
      "\n"
     ]
    }
   ],
   "source": [
    "## Aislar El efecto Resultado, el tratamiento Camino 1 y los demás serán confounders\n",
    "Y = data.loc[:,\"Y\"].values\n",
    "T = data.loc[:,\"S\"].values\n",
    "confounders = data.drop(columns=[\"S\",\"Y\"]).values\n",
    "model = CausalModel(Y,T,confounders)\n",
    "model.est_via_ols(adj=0)\n",
    "estimaciones = model.estimates\n",
    "print(estimaciones)\n",
    "print(model.summary_stats)\n",
    "model.reset()"
   ]
  },
  {
   "cell_type": "code",
   "execution_count": null,
   "metadata": {},
   "outputs": [],
   "source": []
  },
  {
   "cell_type": "markdown",
   "metadata": {},
   "source": [
    "### Eleccion del camino\n",
    "Mostrar descendentemente las probabilidades de éxito de cada camino"
   ]
  },
  {
   "cell_type": "code",
   "execution_count": 33,
   "metadata": {},
   "outputs": [
    {
     "data": {
      "text/html": [
       "<div>\n",
       "<style scoped>\n",
       "    .dataframe tbody tr th:only-of-type {\n",
       "        vertical-align: middle;\n",
       "    }\n",
       "\n",
       "    .dataframe tbody tr th {\n",
       "        vertical-align: top;\n",
       "    }\n",
       "\n",
       "    .dataframe thead th {\n",
       "        text-align: right;\n",
       "    }\n",
       "</style>\n",
       "<table border=\"1\" class=\"dataframe\">\n",
       "  <thead>\n",
       "    <tr style=\"text-align: right;\">\n",
       "      <th></th>\n",
       "      <th>Y</th>\n",
       "    </tr>\n",
       "    <tr>\n",
       "      <th>C</th>\n",
       "      <th></th>\n",
       "    </tr>\n",
       "  </thead>\n",
       "  <tbody>\n",
       "    <tr>\n",
       "      <th>1</th>\n",
       "      <td>130</td>\n",
       "    </tr>\n",
       "    <tr>\n",
       "      <th>2</th>\n",
       "      <td>10</td>\n",
       "    </tr>\n",
       "    <tr>\n",
       "      <th>3</th>\n",
       "      <td>80</td>\n",
       "    </tr>\n",
       "    <tr>\n",
       "      <th>4</th>\n",
       "      <td>30</td>\n",
       "    </tr>\n",
       "    <tr>\n",
       "      <th>5</th>\n",
       "      <td>59</td>\n",
       "    </tr>\n",
       "    <tr>\n",
       "      <th>6</th>\n",
       "      <td>30</td>\n",
       "    </tr>\n",
       "    <tr>\n",
       "      <th>7</th>\n",
       "      <td>72</td>\n",
       "    </tr>\n",
       "  </tbody>\n",
       "</table>\n",
       "</div>"
      ],
      "text/plain": [
       "     Y\n",
       "C     \n",
       "1  130\n",
       "2   10\n",
       "3   80\n",
       "4   30\n",
       "5   59\n",
       "6   30\n",
       "7   72"
      ]
     },
     "metadata": {},
     "output_type": "display_data"
    }
   ],
   "source": [
    "dftmp = pd.DataFrame(df2.groupby('C')['Y'].sum(),columns=['Y'])\n",
    "display(dftmp)"
   ]
  },
  {
   "cell_type": "markdown",
   "metadata": {},
   "source": [
    "### Seleccionar el camino"
   ]
  },
  {
   "cell_type": "code",
   "execution_count": 42,
   "metadata": {},
   "outputs": [
    {
     "name": "stdout",
     "output_type": "stream",
     "text": [
      "Index(['Y'], dtype='object')\n",
      "1\n"
     ]
    }
   ],
   "source": [
    "print(dftmp.columns)\n",
    "idx = df.Y.idxmax()\n",
    "print(idx)\n",
    "\n",
    "with open('c:/camino.txt', 'a') as fp:\n",
    "    fp.write(str(idx))"
   ]
  },
  {
   "cell_type": "markdown",
   "metadata": {},
   "source": [
    "### Ejecutar el CausalBOT"
   ]
  },
  {
   "cell_type": "code",
   "execution_count": null,
   "metadata": {},
   "outputs": [],
   "source": [
    "import subprocess\n",
    "\n",
    "return_code = subprocess.call([\"java\", \"-jar\",\"C:/runcausalbot.jar\"])\n"
   ]
  }
 ],
 "metadata": {
  "kernelspec": {
   "display_name": "Python 3",
   "language": "python",
   "name": "python3"
  },
  "language_info": {
   "codemirror_mode": {
    "name": "ipython",
    "version": 3
   },
   "file_extension": ".py",
   "mimetype": "text/x-python",
   "name": "python",
   "nbconvert_exporter": "python",
   "pygments_lexer": "ipython3",
   "version": "3.7.7"
  }
 },
 "nbformat": 4,
 "nbformat_minor": 4
}
